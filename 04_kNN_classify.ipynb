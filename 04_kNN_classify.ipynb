{
 "cells": [
  {
   "cell_type": "code",
   "execution_count": 1,
   "metadata": {
    "collapsed": true
   },
   "outputs": [],
   "source": [
    "import numpy as np\n",
    "from math import sqrt\n",
    "from collections import Counter"
   ]
  },
  {
   "cell_type": "code",
   "execution_count": 2,
   "metadata": {
    "collapsed": true
   },
   "outputs": [],
   "source": [
    "def kNN_classify(k,X_train,y_train,x):\n",
    "    assert 1<=k<=X_train.shape[0],'k must be valid'\n",
    "    assert X_train.shape[0]==y_train.shape[0],\\\n",
    "        'the size of X_train must equal to the size of y_train'\n",
    "    #assert X_train.shape[1]==x.shape[0],\\\n",
    "    #    'the feature number of x must be equal to X_train'\n",
    "    distances=[sqrt(np.sum((x-x_train)**2)) for x_train in X_train]\n",
    "    nearest=np.argsort(distances)\n",
    "    \n",
    "    topK_y=[y_train[i] for i in nearest[:k]]\n",
    "    votes=Counter(topK_y)\n",
    "    pred_y=votes.most_common(1)[0][0]\n",
    "    return pred_y"
   ]
  },
  {
   "cell_type": "code",
   "execution_count": null,
   "metadata": {
    "collapsed": true
   },
   "outputs": [],
   "source": []
  }
 ],
 "metadata": {
  "kernelspec": {
   "display_name": "Python [Root]",
   "language": "python",
   "name": "Python [Root]"
  },
  "language_info": {
   "codemirror_mode": {
    "name": "ipython",
    "version": 3
   },
   "file_extension": ".py",
   "mimetype": "text/x-python",
   "name": "python",
   "nbconvert_exporter": "python",
   "pygments_lexer": "ipython3",
   "version": "3.5.2"
  }
 },
 "nbformat": 4,
 "nbformat_minor": 0
}
